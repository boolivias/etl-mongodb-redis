{
 "cells": [
  {
   "cell_type": "code",
   "execution_count": null,
   "metadata": {},
   "outputs": [],
   "source": [
    "from pyspark.sql import SparkSession\n",
    "from pyspark.sql.types import DecimalType, StructType\n",
    "from functools import reduce\n",
    "import pyspark\n",
    "import pyspark.sql.functions as f\n",
    "import datetime\n",
    "\n",
    "packages = ','.join([\n",
    "    'org.mongodb.spark:mongo-spark-connector_2.12:3.0.1',\n",
    "    'com.redislabs:spark-redis_2.12:3.1.0'\n",
    "])\n",
    "\n",
    "spark = SparkSession \\\n",
    "        .builder \\\n",
    "        .appName(\"projeto-final-pmd-pedro-jean\") \\\n",
    "        .config(\"spark.mongodb.input.uri\",\"mongodb://mongo:27017/PMD2023.Mensagens\") \\\n",
    "        .config(\"spark.mongodb.output.uri\",\"mongodb://mongo:27017/PMD2023.Mensagens\") \\\n",
    "        .config(\"spark.redis.host\", \"redis\") \\\n",
    "        .config(\"spark.redis.port\", \"6379\") \\\n",
    "        .config(\"spark.redis.auth\", \"123\") \\\n",
    "        .config('spark.jars.packages', packages) \\\n",
    "        .getOrCreate()"
   ]
  },
  {
   "cell_type": "code",
   "execution_count": null,
   "metadata": {},
   "outputs": [],
   "source": [
    "redisDf = spark.read.format(\"org.apache.spark.sql.redis\").option(\"table\", \"mensagens\").option(\"key.column\", \"id\").load()\n",
    "mongoDf = spark.read.format(\"com.mongodb.spark.sql.DefaultSource\").load()\n",
    "\n",
    "mongoDf = mongoDf \\\n",
    "            .withColumn(\"_id\", mongoDf._id.oid) \\\n",
    "            .withColumnRenamed(\"_id\", \"id\")\n",
    "\n",
    "unitedDf = redisDf.unionByName(mongoDf)\n",
    "\n",
    "unitedDf.createOrReplaceTempView(\"messages\")\n",
    "\n",
    "unitedDf.show()"
   ]
  },
  {
   "cell_type": "markdown",
   "metadata": {},
   "source": [
    "## Média de dinheiro doado em Reais (R$) por dia para o canal"
   ]
  },
  {
   "cell_type": "code",
   "execution_count": null,
   "metadata": {},
   "outputs": [],
   "source": [
    "media = spark.sql(\"\"\"\n",
    "                SELECT\n",
    "                    date as Data, \n",
    "                    currency as Moeda, \n",
    "                    AVG(money) as Media_de_dinheiro_doado\n",
    "                FROM\n",
    "                    messages as m\n",
    "                WHERE\n",
    "                    donated = true\n",
    "                    and currency = 'R$'\n",
    "                GROUP BY\n",
    "                    date, currency\n",
    "                ORDER BY date ASC\n",
    "                  \"\"\")\n",
    "\n",
    "media.show()"
   ]
  },
  {
   "cell_type": "markdown",
   "metadata": {},
   "source": [
    "## Total de dinheiro doado em dólar por dia para a stream"
   ]
  },
  {
   "cell_type": "code",
   "execution_count": null,
   "metadata": {},
   "outputs": [],
   "source": [
    "total = spark.sql(\"\"\"\n",
    "                SELECT\n",
    "                    date as Data, \n",
    "                    currency as Moeda, \n",
    "                    SUM(money) as Total_de_dinheiro_doado\n",
    "                FROM\n",
    "                    messages as m\n",
    "                WHERE\n",
    "                    donated = true\n",
    "                    and currency = '$'\n",
    "                GROUP BY\n",
    "                    date, currency\n",
    "                ORDER BY date ASC\n",
    "                  \"\"\")\n",
    "\n",
    "total.show()"
   ]
  },
  {
   "cell_type": "markdown",
   "metadata": {},
   "source": [
    "## Total de dinheiro arrecadado pelo canal, separado por moeda"
   ]
  },
  {
   "cell_type": "code",
   "execution_count": null,
   "metadata": {},
   "outputs": [],
   "source": [
    "total2 = spark.sql(\"\"\"\n",
    "                SELECT\n",
    "                    currency as Moeda, \n",
    "                    SUM(money) as Total_de_dinheiro_doado\n",
    "                FROM\n",
    "                    messages as m\n",
    "                WHERE\n",
    "                    donated = true\n",
    "                GROUP BY\n",
    "                    currency\n",
    "                HAVING \n",
    "                    Total_de_dinheiro_doado is not null\n",
    "                ORDER BY Total_de_dinheiro_doado DESC\n",
    "                  \"\"\")\n",
    "\n",
    "total2.show(100)"
   ]
  },
  {
   "cell_type": "markdown",
   "metadata": {},
   "source": [
    "## Buscar todas as mensagens contendo a string \"Brasil\" no chat ao vivo"
   ]
  },
  {
   "cell_type": "code",
   "execution_count": null,
   "metadata": {},
   "outputs": [],
   "source": [
    "brasil = redisDf.filter(redisDf.messages.like(\"%Brasil%\"))\n",
    "\n",
    "brasil.show(100)"
   ]
  },
  {
   "cell_type": "markdown",
   "metadata": {},
   "source": [
    "## Transferir dados do redis para o mongo"
   ]
  },
  {
   "cell_type": "code",
   "execution_count": null,
   "metadata": {},
   "outputs": [],
   "source": [
    "redisToWrite = redisDf.drop(redisDf.id)\n",
    "\n",
    "redisToWrite.write.format('com.mongodb.spark.sql.DefaultSource').mode(\"append\").save()\n",
    "\n",
    "to_overwrite = spark.createDataFrame([], StructType([]))\n",
    "to_overwrite.write.format(\"org.apache.spark.sql.redis\") \\\n",
    "    .option(\"table\", \"mensagens\") \\\n",
    "    .option(\"key.column\", \"id\") \\\n",
    "    .mode(\"overwrite\") \\\n",
    "    .save()\n"
   ]
  }
 ],
 "metadata": {
  "kernelspec": {
   "display_name": "Python 3 (ipykernel)",
   "language": "python",
   "name": "python3"
  },
  "language_info": {
   "codemirror_mode": {
    "name": "ipython",
    "version": 3
   },
   "file_extension": ".py",
   "mimetype": "text/x-python",
   "name": "python",
   "nbconvert_exporter": "python",
   "pygments_lexer": "ipython3",
   "version": "3.11.4"
  },
  "orig_nbformat": 4
 },
 "nbformat": 4,
 "nbformat_minor": 2
}
