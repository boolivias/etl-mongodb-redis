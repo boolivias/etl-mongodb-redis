{
 "cells": [
  {
   "cell_type": "code",
   "execution_count": null,
   "metadata": {},
   "outputs": [],
   "source": [
    "from pyspark.sql import SparkSession\n",
    "from pyspark.sql.types import DecimalType\n",
    "from functools import reduce\n",
    "import pyspark\n",
    "import pyspark.sql.functions as f\n",
    "import datetime\n",
    "\n",
    "packages = ','.join([\n",
    "    'org.mongodb.spark:mongo-spark-connector_2.12:3.0.1',\n",
    "    'com.redislabs:spark-redis_2.12:3.1.0'\n",
    "])\n",
    "\n",
    "spark = SparkSession \\\n",
    "        .builder \\\n",
    "        .appName(\"projeto-final-pmd-pedro-jean\") \\\n",
    "        .config(\"spark.mongodb.input.uri\",\"mongodb://mongo:27017/PMD2023.Mensagens\") \\\n",
    "        .config(\"spark.mongodb.output.uri\",\"mongodb://mongo:27017/PMD2023.Mensagens\") \\\n",
    "        .config(\"spark.redis.host\", \"redis\") \\\n",
    "        .config(\"spark.redis.port\", \"6379\") \\\n",
    "        .config(\"spark.redis.auth\", \"123\") \\\n",
    "        .config('spark.jars.packages', packages) \\\n",
    "        .getOrCreate()"
   ]
  },
  {
   "cell_type": "code",
   "execution_count": null,
   "metadata": {},
   "outputs": [],
   "source": [
    "mongoDf = spark.read.format(\"com.mongodb.spark.sql.DefaultSource\").load()\n",
    "\n",
    "mongoDf.printSchema()\n",
    "\n",
    "mongoDf.show()"
   ]
  },
  {
   "cell_type": "code",
   "execution_count": null,
   "metadata": {},
   "outputs": [],
   "source": [
    "redisDf = spark.read.format(\"org.apache.spark.sql.redis\").option(\"table\", \"mensagens\").option(\"key.column\", \"id\").load()\n",
    "\n",
    "redisDf.printSchema()\n",
    "\n",
    "redisDf.show()"
   ]
  }
 ],
 "metadata": {
  "kernelspec": {
   "display_name": "Python 3 (ipykernel)",
   "language": "python",
   "name": "python3"
  },
  "orig_nbformat": 4
 },
 "nbformat": 4,
 "nbformat_minor": 2
}
