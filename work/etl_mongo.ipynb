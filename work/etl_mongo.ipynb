{
 "cells": [
  {
   "cell_type": "code",
   "execution_count": null,
   "metadata": {},
   "outputs": [],
   "source": [
    "from pyspark.sql import SparkSession\n",
    "from pyspark.sql.types import DecimalType\n",
    "from functools import reduce\n",
    "import pyspark\n",
    "import pyspark.sql.functions as f\n",
    "import datetime\n",
    "\n",
    "packages = ','.join([\n",
    "    'org.mongodb.spark:mongo-spark-connector_2.12:3.0.1',\n",
    "])\n",
    "\n",
    "spark = SparkSession \\\n",
    "        .builder \\\n",
    "        .appName(\"projeto-final-pmd-pedro-jean\") \\\n",
    "        .config(\"spark.mongodb.input.uri\",\"mongodb://mongo:27017/PMD2023.Mensagens\") \\\n",
    "        .config(\"spark.mongodb.output.uri\",\"mongodb://mongo:27017/PMD2023.Mensagens\") \\\n",
    "        .config('spark.jars.packages', packages) \\\n",
    "        .getOrCreate()"
   ]
  },
  {
   "cell_type": "code",
   "execution_count": null,
   "metadata": {},
   "outputs": [],
   "source": [
    "dateUDF = f.udf(lambda date, days: (date + datetime.timedelta(days=days-1)).strftime(\"%Y-%m-%d\"))"
   ]
  },
  {
   "cell_type": "code",
   "execution_count": null,
   "metadata": {},
   "outputs": [],
   "source": [
    "daysList = [1, 2, 3, 4, 5, 6, 7, 8, 10, 12, 15, 16, 17, 18, 19, 20, 21, 22, 23]\n",
    "dfList = []\n",
    "\n",
    "initDate = datetime.datetime(2022, 4, 12)\n",
    "\n",
    "for i in daysList:\n",
    "    df = spark.read.options(header='True', inferSchema='True', quote=\"\\\"\", escape=\"\\\"\").csv(f'./work/Mongo/day{i}.csv')\n",
    "    \n",
    "    treated = df.withColumn('currency', f.when((df.money.isNotNull()) & (df.money != '0'), f.regexp_replace('money', r'(\\D*)(\\d+(\\.|,)?\\d*)', '$1')).otherwise(None)) \\\n",
    "        .withColumn('money',  f.regexp_replace('money', r'(\\D*)(\\d+(\\.|,)?\\d*)', '$2').cast(DecimalType(20,2))) \\\n",
    "        .withColumn('donated', (f.col('money') != '0')) \\\n",
    "        .withColumn('date', f.to_date(dateUDF(f.lit(initDate), f.lit(i))))\n",
    "    \n",
    "    dfList.append(treated)\n",
    "    \n",
    "\n",
    "final_sdf = reduce(pyspark.sql.dataframe.DataFrame.unionByName, dfList)\n",
    "\n",
    "final_sdf.show()"
   ]
  },
  {
   "cell_type": "code",
   "execution_count": null,
   "metadata": {},
   "outputs": [],
   "source": [
    "final_sdf.write.format('com.mongodb.spark.sql.DefaultSource').mode(\"overwrite\").save()"
   ]
  }
 ],
 "metadata": {
  "kernelspec": {
   "display_name": "Python 3 (ipykernel)",
   "language": "python",
   "name": "python3"
  },
  "language_info": {
   "codemirror_mode": {
    "name": "ipython",
    "version": 3
   },
   "file_extension": ".py",
   "mimetype": "text/x-python",
   "name": "python",
   "nbconvert_exporter": "python",
   "pygments_lexer": "ipython3",
   "version": "3.11.4"
  },
  "orig_nbformat": 4
 },
 "nbformat": 4,
 "nbformat_minor": 2
}
