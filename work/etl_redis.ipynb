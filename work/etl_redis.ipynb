{
 "cells": [
  {
   "cell_type": "code",
   "execution_count": null,
   "metadata": {},
   "outputs": [],
   "source": [
    "from pyspark.sql import SparkSession\n",
    "from pyspark.sql.types import DecimalType\n",
    "import pyspark\n",
    "import pyspark.sql.functions as f\n",
    "import datetime\n",
    "\n",
    "packages = ','.join([\n",
    "    'com.redislabs:spark-redis_2.12:3.1.0'\n",
    "])\n",
    "\n",
    "spark = SparkSession \\\n",
    "        .builder \\\n",
    "        .appName(\"projeto-final-pmd-pedro-jean\") \\\n",
    "        .config(\"spark.redis.host\", \"redis\") \\\n",
    "        .config(\"spark.redis.port\", \"6379\") \\\n",
    "        .config(\"spark.redis.auth\", \"123\") \\\n",
    "        .config('spark.jars.packages', packages) \\\n",
    "        .getOrCreate()"
   ]
  },
  {
   "cell_type": "code",
   "execution_count": null,
   "metadata": {},
   "outputs": [],
   "source": [
    "initDate = datetime.datetime(2022, 4, 12).strftime(\"%Y-%m-%d\")\n",
    "\n",
    "df = spark.read.options(header='True', inferSchema='True', quote=\"\\\"\", escape=\"\\\"\").csv('./work/Redis/day24.csv')\n",
    "\n",
    "treated = df.withColumn('currency', f.when((df.money.isNotNull()) & (df.money != '0'), f.regexp_replace('money', r'(\\D*)(\\d+(\\.|,)?\\d*)', '$1')).otherwise(None)) \\\n",
    "    .withColumn('money',  f.regexp_replace('money', r'(\\D*)(\\d+(\\.|,)?\\d*)', '$2')) \\\n",
    "    .withColumn('donated', (f.col('money') != '0')) \\\n",
    "    .withColumn('date', f.to_date(f.lit(initDate))) \\\n",
    "    .withColumn('id', f.expr(\"uuid()\"))\n",
    "\n",
    "treated.show()"
   ]
  },
  {
   "cell_type": "code",
   "execution_count": null,
   "metadata": {},
   "outputs": [],
   "source": [
    "treated.write.format(\"org.apache.spark.sql.redis\") \\\n",
    "    .option(\"table\", \"mensagens\") \\\n",
    "    .option(\"key.column\", \"id\") \\\n",
    "    .mode(\"overwrite\") \\\n",
    "    .save()"
   ]
  }
 ],
 "metadata": {
  "kernelspec": {
   "display_name": "Python 3 (ipykernel)",
   "language": "python",
   "name": "python3"
  },
  "language_info": {
   "codemirror_mode": {
    "name": "ipython",
    "version": 3
   },
   "file_extension": ".py",
   "mimetype": "text/x-python",
   "name": "python",
   "nbconvert_exporter": "python",
   "pygments_lexer": "ipython3",
   "version": "3.11.4"
  },
  "orig_nbformat": 4
 },
 "nbformat": 4,
 "nbformat_minor": 2
}
